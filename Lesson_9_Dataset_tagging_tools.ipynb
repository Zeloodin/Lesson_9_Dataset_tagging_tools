{
 "cells": [
  {
   "cell_type": "code",
   "execution_count": 6,
   "metadata": {},
   "outputs": [
    {
     "name": "stdout",
     "output_type": "stream",
     "text": [
      "Requirement already satisfied: pandas in d:\\pycharmprojects\\112121212121\\gb\\lesson_9_dataset_tagging_tools\\venv\\lib\\site-packages (2.2.2)\n",
      "Requirement already satisfied: numpy>=1.22.4 in d:\\pycharmprojects\\112121212121\\gb\\lesson_9_dataset_tagging_tools\\venv\\lib\\site-packages (from pandas) (1.26.4)\n",
      "Requirement already satisfied: python-dateutil>=2.8.2 in d:\\pycharmprojects\\112121212121\\gb\\lesson_9_dataset_tagging_tools\\venv\\lib\\site-packages (from pandas) (2.9.0.post0)\n",
      "Requirement already satisfied: pytz>=2020.1 in d:\\pycharmprojects\\112121212121\\gb\\lesson_9_dataset_tagging_tools\\venv\\lib\\site-packages (from pandas) (2024.1)\n",
      "Requirement already satisfied: tzdata>=2022.7 in d:\\pycharmprojects\\112121212121\\gb\\lesson_9_dataset_tagging_tools\\venv\\lib\\site-packages (from pandas) (2024.1)\n",
      "Requirement already satisfied: six>=1.5 in d:\\pycharmprojects\\112121212121\\gb\\lesson_9_dataset_tagging_tools\\venv\\lib\\site-packages (from python-dateutil>=2.8.2->pandas) (1.16.0)\n",
      "Note: you may need to restart the kernel to use updated packages.\n"
     ]
    }
   ],
   "source": [
    "pip install pandas"
   ]
  },
  {
   "cell_type": "code",
   "execution_count": 7,
   "metadata": {},
   "outputs": [
    {
     "name": "stdout",
     "output_type": "stream",
     "text": [
      "Collecting scikit-learn\n",
      "  Using cached scikit_learn-1.5.0-cp310-cp310-win_amd64.whl.metadata (11 kB)\n",
      "Requirement already satisfied: numpy>=1.19.5 in d:\\pycharmprojects\\112121212121\\gb\\lesson_9_dataset_tagging_tools\\venv\\lib\\site-packages (from scikit-learn) (1.26.4)\n",
      "Collecting scipy>=1.6.0 (from scikit-learn)\n",
      "  Using cached scipy-1.13.1-cp310-cp310-win_amd64.whl.metadata (60 kB)\n",
      "Collecting joblib>=1.2.0 (from scikit-learn)\n",
      "  Using cached joblib-1.4.2-py3-none-any.whl.metadata (5.4 kB)\n",
      "Collecting threadpoolctl>=3.1.0 (from scikit-learn)\n",
      "  Using cached threadpoolctl-3.5.0-py3-none-any.whl.metadata (13 kB)\n",
      "Using cached scikit_learn-1.5.0-cp310-cp310-win_amd64.whl (11.0 MB)\n",
      "Using cached joblib-1.4.2-py3-none-any.whl (301 kB)\n",
      "Using cached scipy-1.13.1-cp310-cp310-win_amd64.whl (46.2 MB)\n",
      "Using cached threadpoolctl-3.5.0-py3-none-any.whl (18 kB)\n",
      "Installing collected packages: threadpoolctl, scipy, joblib, scikit-learn\n",
      "Successfully installed joblib-1.4.2 scikit-learn-1.5.0 scipy-1.13.1 threadpoolctl-3.5.0\n",
      "Note: you may need to restart the kernel to use updated packages.\n"
     ]
    }
   ],
   "source": [
    "pip install scikit-learn"
   ]
  },
  {
   "cell_type": "code",
   "execution_count": 8,
   "metadata": {},
   "outputs": [
    {
     "name": "stdout",
     "output_type": "stream",
     "text": [
      "Requirement already satisfied: matplotlib in d:\\pycharmprojects\\112121212121\\gb\\lesson_9_dataset_tagging_tools\\venv\\lib\\site-packages (3.9.0)\n",
      "Requirement already satisfied: contourpy>=1.0.1 in d:\\pycharmprojects\\112121212121\\gb\\lesson_9_dataset_tagging_tools\\venv\\lib\\site-packages (from matplotlib) (1.2.1)\n",
      "Requirement already satisfied: cycler>=0.10 in d:\\pycharmprojects\\112121212121\\gb\\lesson_9_dataset_tagging_tools\\venv\\lib\\site-packages (from matplotlib) (0.12.1)\n",
      "Requirement already satisfied: fonttools>=4.22.0 in d:\\pycharmprojects\\112121212121\\gb\\lesson_9_dataset_tagging_tools\\venv\\lib\\site-packages (from matplotlib) (4.53.0)\n",
      "Requirement already satisfied: kiwisolver>=1.3.1 in d:\\pycharmprojects\\112121212121\\gb\\lesson_9_dataset_tagging_tools\\venv\\lib\\site-packages (from matplotlib) (1.4.5)\n",
      "Requirement already satisfied: numpy>=1.23 in d:\\pycharmprojects\\112121212121\\gb\\lesson_9_dataset_tagging_tools\\venv\\lib\\site-packages (from matplotlib) (1.26.4)\n",
      "Requirement already satisfied: packaging>=20.0 in d:\\pycharmprojects\\112121212121\\gb\\lesson_9_dataset_tagging_tools\\venv\\lib\\site-packages (from matplotlib) (24.0)\n",
      "Requirement already satisfied: pillow>=8 in d:\\pycharmprojects\\112121212121\\gb\\lesson_9_dataset_tagging_tools\\venv\\lib\\site-packages (from matplotlib) (10.3.0)\n",
      "Requirement already satisfied: pyparsing>=2.3.1 in d:\\pycharmprojects\\112121212121\\gb\\lesson_9_dataset_tagging_tools\\venv\\lib\\site-packages (from matplotlib) (3.1.2)\n",
      "Requirement already satisfied: python-dateutil>=2.7 in d:\\pycharmprojects\\112121212121\\gb\\lesson_9_dataset_tagging_tools\\venv\\lib\\site-packages (from matplotlib) (2.9.0.post0)\n",
      "Requirement already satisfied: six>=1.5 in d:\\pycharmprojects\\112121212121\\gb\\lesson_9_dataset_tagging_tools\\venv\\lib\\site-packages (from python-dateutil>=2.7->matplotlib) (1.16.0)\n",
      "Note: you may need to restart the kernel to use updated packages.\n"
     ]
    }
   ],
   "source": [
    "pip install matplotlib"
   ]
  },
  {
   "cell_type": "code",
   "execution_count": 9,
   "metadata": {
    "id": "9qsVWZW9mW_h"
   },
   "outputs": [],
   "source": [
    "import pandas as pd\n",
    "import numpy as np\n",
    "from sklearn.feature_extraction.text import TfidfVectorizer\n",
    "from sklearn.linear_model import LogisticRegression\n",
    "from sklearn.model_selection import train_test_split\n",
    "from sklearn.metrics import f1_score\n",
    "from sklearn.utils import shuffle"
   ]
  },
  {
   "cell_type": "code",
   "execution_count": 10,
   "metadata": {
    "colab": {
     "base_uri": "https://localhost:8080/",
     "height": 206
    },
    "id": "4vNyk4akobEO",
    "outputId": "94376324-be1c-410f-b89a-6581c4c34e0e"
   },
   "outputs": [
    {
     "data": {
      "text/html": [
       "<div>\n",
       "<style scoped>\n",
       "    .dataframe tbody tr th:only-of-type {\n",
       "        vertical-align: middle;\n",
       "    }\n",
       "\n",
       "    .dataframe tbody tr th {\n",
       "        vertical-align: top;\n",
       "    }\n",
       "\n",
       "    .dataframe thead th {\n",
       "        text-align: right;\n",
       "    }\n",
       "</style>\n",
       "<table border=\"1\" class=\"dataframe\">\n",
       "  <thead>\n",
       "    <tr style=\"text-align: right;\">\n",
       "      <th></th>\n",
       "      <th>Show</th>\n",
       "      <th>Sentiment</th>\n",
       "      <th>Review</th>\n",
       "    </tr>\n",
       "  </thead>\n",
       "  <tbody>\n",
       "    <tr>\n",
       "      <th>0</th>\n",
       "      <td>Mare of Easttown</td>\n",
       "      <td>1</td>\n",
       "      <td>I’m not sure I have engaged in appointment vie...</td>\n",
       "    </tr>\n",
       "    <tr>\n",
       "      <th>1</th>\n",
       "      <td>Mare of Easttown</td>\n",
       "      <td>1</td>\n",
       "      <td>Kate is marvelous; she truly is Mare. She disa...</td>\n",
       "    </tr>\n",
       "    <tr>\n",
       "      <th>2</th>\n",
       "      <td>Mare of Easttown</td>\n",
       "      <td>1</td>\n",
       "      <td>That’s the thing I’ve loved most about Mare: t...</td>\n",
       "    </tr>\n",
       "    <tr>\n",
       "      <th>3</th>\n",
       "      <td>Mare of Easttown</td>\n",
       "      <td>1</td>\n",
       "      <td>Boasting Kate Winslet in the title role, twist...</td>\n",
       "    </tr>\n",
       "    <tr>\n",
       "      <th>4</th>\n",
       "      <td>Mare of Easttown</td>\n",
       "      <td>1</td>\n",
       "      <td>Performances in which madness, psychopathy or ...</td>\n",
       "    </tr>\n",
       "  </tbody>\n",
       "</table>\n",
       "</div>"
      ],
      "text/plain": [
       "               Show  Sentiment  \\\n",
       "0  Mare of Easttown          1   \n",
       "1  Mare of Easttown          1   \n",
       "2  Mare of Easttown          1   \n",
       "3  Mare of Easttown          1   \n",
       "4  Mare of Easttown          1   \n",
       "\n",
       "                                              Review  \n",
       "0  I’m not sure I have engaged in appointment vie...  \n",
       "1  Kate is marvelous; she truly is Mare. She disa...  \n",
       "2  That’s the thing I’ve loved most about Mare: t...  \n",
       "3  Boasting Kate Winslet in the title role, twist...  \n",
       "4  Performances in which madness, psychopathy or ...  "
      ]
     },
     "execution_count": 10,
     "metadata": {},
     "output_type": "execute_result"
    }
   ],
   "source": [
    "reviews = pd.read_csv(\"critic_reviews.csv\", engine='python', encoding='utf-8', on_bad_lines=\"skip\", encoding_errors=\"ignore\")\n",
    "reviews.head()"
   ]
  },
  {
   "cell_type": "code",
   "execution_count": 11,
   "metadata": {
    "colab": {
     "base_uri": "https://localhost:8080/"
    },
    "id": "426ispq4sWJ_",
    "outputId": "75239524-cc9a-470f-ba01-5f6936ab2b62"
   },
   "outputs": [
    {
     "name": "stdout",
     "output_type": "stream",
     "text": [
      "<class 'pandas.core.frame.DataFrame'>\n",
      "RangeIndex: 14791 entries, 0 to 14790\n",
      "Data columns (total 3 columns):\n",
      " #   Column     Non-Null Count  Dtype \n",
      "---  ------     --------------  ----- \n",
      " 0   Show       14791 non-null  object\n",
      " 1   Sentiment  14791 non-null  int64 \n",
      " 2   Review     14790 non-null  object\n",
      "dtypes: int64(1), object(2)\n",
      "memory usage: 346.8+ KB\n"
     ]
    }
   ],
   "source": [
    "reviews.info()"
   ]
  },
  {
   "cell_type": "code",
   "execution_count": 12,
   "metadata": {
    "colab": {
     "base_uri": "https://localhost:8080/",
     "height": 447
    },
    "id": "i2MH-Qhbsb-j",
    "outputId": "442f61ef-4359-463b-f290-1b4d60d9eedb"
   },
   "outputs": [
    {
     "data": {
      "text/plain": [
       "<Axes: >"
      ]
     },
     "execution_count": 12,
     "metadata": {},
     "output_type": "execute_result"
    },
    {
     "data": {
      "image/png": "[encoded data removed]",
      "text/plain": [
       "<Figure size 640x480 with 1 Axes>"
      ]
     },
     "metadata": {},
     "output_type": "display_data"
    }
   ],
   "source": [
    "reviews['Sentiment'].hist()"
   ]
  },
  {
   "cell_type": "code",
   "execution_count": 13,
   "metadata": {
    "colab": {
     "base_uri": "https://localhost:8080/",
     "height": 424
    },
    "id": "ZEmlNQFbspwk",
    "outputId": "74b9077d-aa1e-450d-a566-67185712531f"
   },
   "outputs": [
    {
     "data": {
      "text/html": [
       "<div>\n",
       "<style scoped>\n",
       "    .dataframe tbody tr th:only-of-type {\n",
       "        vertical-align: middle;\n",
       "    }\n",
       "\n",
       "    .dataframe tbody tr th {\n",
       "        vertical-align: top;\n",
       "    }\n",
       "\n",
       "    .dataframe thead th {\n",
       "        text-align: right;\n",
       "    }\n",
       "</style>\n",
       "<table border=\"1\" class=\"dataframe\">\n",
       "  <thead>\n",
       "    <tr style=\"text-align: right;\">\n",
       "      <th></th>\n",
       "      <th>Show</th>\n",
       "      <th>Sentiment</th>\n",
       "      <th>Review</th>\n",
       "    </tr>\n",
       "  </thead>\n",
       "  <tbody>\n",
       "    <tr>\n",
       "      <th>5191</th>\n",
       "      <td>The Undoing</td>\n",
       "      <td>1</td>\n",
       "      <td>A twisty thriller that is glossy and decadentl...</td>\n",
       "    </tr>\n",
       "    <tr>\n",
       "      <th>11363</th>\n",
       "      <td>Stranger Things</td>\n",
       "      <td>1</td>\n",
       "      <td>It’s hard not to get swept up in the warm, coz...</td>\n",
       "    </tr>\n",
       "    <tr>\n",
       "      <th>5536</th>\n",
       "      <td>Lovecraft Country</td>\n",
       "      <td>1</td>\n",
       "      <td>Lovecraft Country is, frankly, a complete hot ...</td>\n",
       "    </tr>\n",
       "    <tr>\n",
       "      <th>11484</th>\n",
       "      <td>Money Heist: Korea - Joint Economic Area</td>\n",
       "      <td>1</td>\n",
       "      <td>Themes regarding traditionalism versus globali...</td>\n",
       "    </tr>\n",
       "    <tr>\n",
       "      <th>9560</th>\n",
       "      <td>A Very English Scandal</td>\n",
       "      <td>1</td>\n",
       "      <td>A richly textured true-crime miniseries that i...</td>\n",
       "    </tr>\n",
       "    <tr>\n",
       "      <th>...</th>\n",
       "      <td>...</td>\n",
       "      <td>...</td>\n",
       "      <td>...</td>\n",
       "    </tr>\n",
       "    <tr>\n",
       "      <th>13103</th>\n",
       "      <td>The Crown</td>\n",
       "      <td>1</td>\n",
       "      <td>This new set of episodes continues to give us ...</td>\n",
       "    </tr>\n",
       "    <tr>\n",
       "      <th>4677</th>\n",
       "      <td>Adventure Time</td>\n",
       "      <td>1</td>\n",
       "      <td>It's thrilling and sweet and a little bit tear...</td>\n",
       "    </tr>\n",
       "    <tr>\n",
       "      <th>4088</th>\n",
       "      <td>Watchmen</td>\n",
       "      <td>1</td>\n",
       "      <td>If you've never read \"Watchmen,\" you will stil...</td>\n",
       "    </tr>\n",
       "    <tr>\n",
       "      <th>10461</th>\n",
       "      <td>Casual</td>\n",
       "      <td>1</td>\n",
       "      <td>Casual is a brittle but sharp and adult comedy...</td>\n",
       "    </tr>\n",
       "    <tr>\n",
       "      <th>9228</th>\n",
       "      <td>Catastrophe</td>\n",
       "      <td>1</td>\n",
       "      <td>Sharon Horgan and Rob Delaney seem to have dec...</td>\n",
       "    </tr>\n",
       "  </tbody>\n",
       "</table>\n",
       "<p>7395 rows × 3 columns</p>\n",
       "</div>"
      ],
      "text/plain": [
       "                                           Show  Sentiment  \\\n",
       "5191                                The Undoing          1   \n",
       "11363                           Stranger Things          1   \n",
       "5536                          Lovecraft Country          1   \n",
       "11484  Money Heist: Korea - Joint Economic Area          1   \n",
       "9560                     A Very English Scandal          1   \n",
       "...                                         ...        ...   \n",
       "13103                                 The Crown          1   \n",
       "4677                             Adventure Time          1   \n",
       "4088                                   Watchmen          1   \n",
       "10461                                    Casual          1   \n",
       "9228                                Catastrophe          1   \n",
       "\n",
       "                                                  Review  \n",
       "5191   A twisty thriller that is glossy and decadentl...  \n",
       "11363  It’s hard not to get swept up in the warm, coz...  \n",
       "5536   Lovecraft Country is, frankly, a complete hot ...  \n",
       "11484  Themes regarding traditionalism versus globali...  \n",
       "9560   A richly textured true-crime miniseries that i...  \n",
       "...                                                  ...  \n",
       "13103  This new set of episodes continues to give us ...  \n",
       "4677   It's thrilling and sweet and a little bit tear...  \n",
       "4088   If you've never read \"Watchmen,\" you will stil...  \n",
       "10461  Casual is a brittle but sharp and adult comedy...  \n",
       "9228   Sharon Horgan and Rob Delaney seem to have dec...  \n",
       "\n",
       "[7395 rows x 3 columns]"
      ]
     },
     "execution_count": 13,
     "metadata": {},
     "output_type": "execute_result"
    }
   ],
   "source": [
    "reviews = shuffle(reviews)\n",
    "labeled_reviews, unlabeled_reviews = train_test_split(reviews, train_size=0.5, random_state=42)\n",
    "labeled_reviews"
   ]
  },
  {
   "cell_type": "code",
   "execution_count": 14,
   "metadata": {
    "colab": {
     "base_uri": "https://localhost:8080/"
    },
    "id": "jgT_LoiVs7h6",
    "outputId": "50dcdcaf-6659-40c7-9f92-0c45d413f563"
   },
   "outputs": [
    {
     "name": "stdout",
     "output_type": "stream",
     "text": [
      "<class 'pandas.core.frame.DataFrame'>\n",
      "Index: 7395 entries, 5191 to 9228\n",
      "Data columns (total 3 columns):\n",
      " #   Column     Non-Null Count  Dtype \n",
      "---  ------     --------------  ----- \n",
      " 0   Show       7395 non-null   object\n",
      " 1   Sentiment  7395 non-null   int64 \n",
      " 2   Review     7394 non-null   object\n",
      "dtypes: int64(1), object(2)\n",
      "memory usage: 231.1+ KB\n"
     ]
    }
   ],
   "source": [
    "labeled_reviews.info()"
   ]
  },
  {
   "cell_type": "code",
   "execution_count": 15,
   "metadata": {
    "colab": {
     "base_uri": "https://localhost:8080/",
     "height": 206
    },
    "id": "XgWlyX_3tEcR",
    "outputId": "be2d53b1-d730-4e4a-f4a9-5ef49fbf2169"
   },
   "outputs": [
    {
     "data": {
      "text/html": [
       "<div>\n",
       "<style scoped>\n",
       "    .dataframe tbody tr th:only-of-type {\n",
       "        vertical-align: middle;\n",
       "    }\n",
       "\n",
       "    .dataframe tbody tr th {\n",
       "        vertical-align: top;\n",
       "    }\n",
       "\n",
       "    .dataframe thead th {\n",
       "        text-align: right;\n",
       "    }\n",
       "</style>\n",
       "<table border=\"1\" class=\"dataframe\">\n",
       "  <thead>\n",
       "    <tr style=\"text-align: right;\">\n",
       "      <th></th>\n",
       "      <th>Show</th>\n",
       "      <th>Sentiment</th>\n",
       "      <th>Review</th>\n",
       "    </tr>\n",
       "  </thead>\n",
       "  <tbody>\n",
       "    <tr>\n",
       "      <th>11873</th>\n",
       "      <td>Squid Game</td>\n",
       "      <td>1</td>\n",
       "      <td>Debt to a cruel system is inescapable and dehu...</td>\n",
       "    </tr>\n",
       "    <tr>\n",
       "      <th>5382</th>\n",
       "      <td>The O.C.</td>\n",
       "      <td>1</td>\n",
       "      <td>Just absolute O.C. perfection... You couldn't ...</td>\n",
       "    </tr>\n",
       "    <tr>\n",
       "      <th>5096</th>\n",
       "      <td>His Dark Materials</td>\n",
       "      <td>0</td>\n",
       "      <td>[Though] it's timely and relevant in places, H...</td>\n",
       "    </tr>\n",
       "    <tr>\n",
       "      <th>11387</th>\n",
       "      <td>Stranger Things</td>\n",
       "      <td>1</td>\n",
       "      <td>Fresh locales, appealing new characters, and a...</td>\n",
       "    </tr>\n",
       "    <tr>\n",
       "      <th>650</th>\n",
       "      <td>Prehistoric Planet</td>\n",
       "      <td>1</td>\n",
       "      <td>A gorgeous, engrossing look at the creatures w...</td>\n",
       "    </tr>\n",
       "  </tbody>\n",
       "</table>\n",
       "</div>"
      ],
      "text/plain": [
       "                     Show  Sentiment  \\\n",
       "11873          Squid Game          1   \n",
       "5382             The O.C.          1   \n",
       "5096   His Dark Materials          0   \n",
       "11387     Stranger Things          1   \n",
       "650    Prehistoric Planet          1   \n",
       "\n",
       "                                                  Review  \n",
       "11873  Debt to a cruel system is inescapable and dehu...  \n",
       "5382   Just absolute O.C. perfection... You couldn't ...  \n",
       "5096   [Though] it's timely and relevant in places, H...  \n",
       "11387  Fresh locales, appealing new characters, and a...  \n",
       "650    A gorgeous, engrossing look at the creatures w...  "
      ]
     },
     "execution_count": 15,
     "metadata": {},
     "output_type": "execute_result"
    }
   ],
   "source": [
    "unlabeled_reviews.head()"
   ]
  },
  {
   "cell_type": "code",
   "execution_count": 16,
   "metadata": {
    "colab": {
     "base_uri": "https://localhost:8080/"
    },
    "id": "JItVaNjetPc4",
    "outputId": "630c2c10-a193-4812-97c8-5ed16d82481f"
   },
   "outputs": [
    {
     "name": "stdout",
     "output_type": "stream",
     "text": [
      "<class 'pandas.core.frame.DataFrame'>\n",
      "Index: 7396 entries, 11873 to 11826\n",
      "Data columns (total 3 columns):\n",
      " #   Column     Non-Null Count  Dtype \n",
      "---  ------     --------------  ----- \n",
      " 0   Show       7396 non-null   object\n",
      " 1   Sentiment  7396 non-null   int64 \n",
      " 2   Review     7396 non-null   object\n",
      "dtypes: int64(1), object(2)\n",
      "memory usage: 231.1+ KB\n"
     ]
    }
   ],
   "source": [
    "unlabeled_reviews.info()"
   ]
  },
  {
   "cell_type": "code",
   "execution_count": 18,
   "metadata": {},
   "outputs": [
    {
     "data": {
      "text/plain": [
       "11873    Debt to a cruel system is inescapable and dehu...\n",
       "5382     Just absolute O.C. perfection... You couldn't ...\n",
       "5096     [Though] it's timely and relevant in places, H...\n",
       "11387    Fresh locales, appealing new characters, and a...\n",
       "650      A gorgeous, engrossing look at the creatures w...\n",
       "                               ...                        \n",
       "8581     While The Wilds might be \"kids survive a plane...\n",
       "9848     Even if \"Legion\" isn't the sum of its parts, s...\n",
       "1772     While Star Trek: Strange New Worlds must stick...\n",
       "5078                                  Pretty, pretty good.\n",
       "11826              It just could have been so much better.\n",
       "Name: Review, Length: 7396, dtype: object"
      ]
     },
     "execution_count": 18,
     "metadata": {},
     "output_type": "execute_result"
    }
   ],
   "source": [
    "unlabeled_reviews[\"Review\"]"
   ]
  },
  {
   "cell_type": "markdown",
   "metadata": {},
   "source": [
    "https://stackoverflow.com/questions/39303912/tfidfvectorizer-in-scikit-learn-valueerror-np-nan-is-an-invalid-document\n",
    "x = v.fit_transform(df['Review'].values.astype('U'))  ## Even astype(str) would work"
   ]
  },
  {
   "cell_type": "code",
   "execution_count": 36,
   "metadata": {
    "id": "kIEF9jUotVmB"
   },
   "outputs": [],
   "source": [
    "def train_model(df):\n",
    "    vect = TfidfVectorizer()\n",
    "    x = vect.fit_transform(df['Review'].values.astype('U'))\n",
    "    # x = vect.fit_transform(labeled_data['Review'])\n",
    "    y = df['Sentiment']\n",
    "    model = LogisticRegression()\n",
    "    model.fit(x,y)\n",
    "    return model, vect\n",
    "\n",
    "model, vect = train_model(labeled_reviews)"
   ]
  },
  {
   "cell_type": "code",
   "execution_count": 37,
   "metadata": {
    "colab": {
     "base_uri": "https://localhost:8080/"
    },
    "id": "tCus-8Eotcsz",
    "outputId": "a4289a78-3aec-4ff8-bcc6-a3750894b23c"
   },
   "outputs": [
    {
     "name": "stdout",
     "output_type": "stream",
     "text": [
      "<class 'pandas.core.frame.DataFrame'>\n",
      "Index: 7396 entries, 11873 to 11826\n",
      "Data columns (total 3 columns):\n",
      " #   Column     Non-Null Count  Dtype \n",
      "---  ------     --------------  ----- \n",
      " 0   Show       7396 non-null   object\n",
      " 1   Sentiment  7396 non-null   int64 \n",
      " 2   Review     7396 non-null   object\n",
      "dtypes: int64(1), object(2)\n",
      "memory usage: 231.1+ KB\n"
     ]
    }
   ],
   "source": [
    "unlabeled_reviews = unlabeled_reviews.dropna()\n",
    "unlabeled_reviews.info()"
   ]
  },
  {
   "cell_type": "code",
   "execution_count": 38,
   "metadata": {
    "id": "wDE0F5C0tmzA"
   },
   "outputs": [],
   "source": [
    "x_unlabeled = vect.transform(unlabeled_reviews['Review'])\n",
    "y_unlabeled_predicted = model.predict(x_unlabeled)"
   ]
  },
  {
   "cell_type": "code",
   "execution_count": 39,
   "metadata": {
    "colab": {
     "base_uri": "https://localhost:8080/"
    },
    "id": "wOMnP7tJtq1c",
    "outputId": "f6220ca2-0c40-45f4-f406-a263e870c571"
   },
   "outputs": [
    {
     "name": "stdout",
     "output_type": "stream",
     "text": [
      "[0.43101861 0.39219127 0.51315403 ... 0.40039424 0.65139273 0.99157963]\n"
     ]
    }
   ],
   "source": [
    "y_unlabeled_proba = model.predict_proba(x_unlabeled)\n",
    "uncertainty = -(y_unlabeled_proba * np.log2(y_unlabeled_proba)).sum(axis=1)\n",
    "print(uncertainty)"
   ]
  },
  {
   "cell_type": "code",
   "execution_count": 40,
   "metadata": {
    "colab": {
     "base_uri": "https://localhost:8080/",
     "height": 424
    },
    "id": "ZN-xCvqbtxt3",
    "outputId": "b7d669b9-3268-42f2-d342-37ef0f12199d"
   },
   "outputs": [
    {
     "data": {
      "text/html": [
       "<div>\n",
       "<style scoped>\n",
       "    .dataframe tbody tr th:only-of-type {\n",
       "        vertical-align: middle;\n",
       "    }\n",
       "\n",
       "    .dataframe tbody tr th {\n",
       "        vertical-align: top;\n",
       "    }\n",
       "\n",
       "    .dataframe thead th {\n",
       "        text-align: right;\n",
       "    }\n",
       "</style>\n",
       "<table border=\"1\" class=\"dataframe\">\n",
       "  <thead>\n",
       "    <tr style=\"text-align: right;\">\n",
       "      <th></th>\n",
       "      <th>Show</th>\n",
       "      <th>Sentiment</th>\n",
       "      <th>Review</th>\n",
       "    </tr>\n",
       "  </thead>\n",
       "  <tbody>\n",
       "    <tr>\n",
       "      <th>11674</th>\n",
       "      <td>Arcane: League of Legends</td>\n",
       "      <td>1</td>\n",
       "      <td>It was brilliant and twisted and dark and fun ...</td>\n",
       "    </tr>\n",
       "    <tr>\n",
       "      <th>9948</th>\n",
       "      <td>Community</td>\n",
       "      <td>1</td>\n",
       "      <td>The heart remains the same. If you loved it be...</td>\n",
       "    </tr>\n",
       "    <tr>\n",
       "      <th>3063</th>\n",
       "      <td>The Staircase</td>\n",
       "      <td>1</td>\n",
       "      <td>Intriguing, absorbing, raw, and fascinating… O...</td>\n",
       "    </tr>\n",
       "    <tr>\n",
       "      <th>2951</th>\n",
       "      <td>We Own This City</td>\n",
       "      <td>1</td>\n",
       "      <td>If you're a fan of The Wire (as I am) and cons...</td>\n",
       "    </tr>\n",
       "    <tr>\n",
       "      <th>3553</th>\n",
       "      <td>Peacemaker</td>\n",
       "      <td>1</td>\n",
       "      <td>James Gunn has crafted a heartfelt, twisted, a...</td>\n",
       "    </tr>\n",
       "    <tr>\n",
       "      <th>...</th>\n",
       "      <td>...</td>\n",
       "      <td>...</td>\n",
       "      <td>...</td>\n",
       "    </tr>\n",
       "    <tr>\n",
       "      <th>7137</th>\n",
       "      <td>Once Upon a Time</td>\n",
       "      <td>1</td>\n",
       "      <td>Season 7 got off to an admittedly bumpy start,...</td>\n",
       "    </tr>\n",
       "    <tr>\n",
       "      <th>12583</th>\n",
       "      <td>The Queen's Gambit</td>\n",
       "      <td>1</td>\n",
       "      <td>Not the best series Iv'e ever seen, but it's r...</td>\n",
       "    </tr>\n",
       "    <tr>\n",
       "      <th>14155</th>\n",
       "      <td>Girls5eva</td>\n",
       "      <td>1</td>\n",
       "      <td>In its second season, Girls5eva is as goofy an...</td>\n",
       "    </tr>\n",
       "    <tr>\n",
       "      <th>3724</th>\n",
       "      <td>The Leftovers</td>\n",
       "      <td>1</td>\n",
       "      <td>The Leftovers cemented its legacy as one of th...</td>\n",
       "    </tr>\n",
       "    <tr>\n",
       "      <th>13245</th>\n",
       "      <td>The Good Place</td>\n",
       "      <td>1</td>\n",
       "      <td>The Good Place is the best series about ethics...</td>\n",
       "    </tr>\n",
       "  </tbody>\n",
       "</table>\n",
       "<p>100 rows × 3 columns</p>\n",
       "</div>"
      ],
      "text/plain": [
       "                            Show  Sentiment  \\\n",
       "11674  Arcane: League of Legends          1   \n",
       "9948                   Community          1   \n",
       "3063               The Staircase          1   \n",
       "2951            We Own This City          1   \n",
       "3553                  Peacemaker          1   \n",
       "...                          ...        ...   \n",
       "7137            Once Upon a Time          1   \n",
       "12583         The Queen's Gambit          1   \n",
       "14155                  Girls5eva          1   \n",
       "3724               The Leftovers          1   \n",
       "13245             The Good Place          1   \n",
       "\n",
       "                                                  Review  \n",
       "11674  It was brilliant and twisted and dark and fun ...  \n",
       "9948   The heart remains the same. If you loved it be...  \n",
       "3063   Intriguing, absorbing, raw, and fascinating… O...  \n",
       "2951   If you're a fan of The Wire (as I am) and cons...  \n",
       "3553   James Gunn has crafted a heartfelt, twisted, a...  \n",
       "...                                                  ...  \n",
       "7137   Season 7 got off to an admittedly bumpy start,...  \n",
       "12583  Not the best series Iv'e ever seen, but it's r...  \n",
       "14155  In its second season, Girls5eva is as goofy an...  \n",
       "3724   The Leftovers cemented its legacy as one of th...  \n",
       "13245  The Good Place is the best series about ethics...  \n",
       "\n",
       "[100 rows x 3 columns]"
      ]
     },
     "execution_count": 40,
     "metadata": {},
     "output_type": "execute_result"
    }
   ],
   "source": [
    "labeled_reviews_new = unlabeled_reviews.iloc[uncertainty.argsort()[:100]]\n",
    "unlabeled_reviews_new = unlabeled_reviews.iloc[uncertainty.argsort()[100:]]\n",
    "labeled_reviews_new"
   ]
  },
  {
   "cell_type": "code",
   "execution_count": 41,
   "metadata": {
    "id": "_iZqSDDOt9sW"
   },
   "outputs": [],
   "source": [
    "labeled_reviews_new.to_csv('temp.csv', index=False)"
   ]
  },
  {
   "cell_type": "code",
   "execution_count": 42,
   "metadata": {
    "colab": {
     "base_uri": "https://localhost:8080/",
     "height": 424
    },
    "id": "07XVDy8-uJjK",
    "outputId": "c4b6cf5c-8a84-4ca6-a287-f6caa95076d7"
   },
   "outputs": [
    {
     "data": {
      "text/html": [
       "<div>\n",
       "<style scoped>\n",
       "    .dataframe tbody tr th:only-of-type {\n",
       "        vertical-align: middle;\n",
       "    }\n",
       "\n",
       "    .dataframe tbody tr th {\n",
       "        vertical-align: top;\n",
       "    }\n",
       "\n",
       "    .dataframe thead th {\n",
       "        text-align: right;\n",
       "    }\n",
       "</style>\n",
       "<table border=\"1\" class=\"dataframe\">\n",
       "  <thead>\n",
       "    <tr style=\"text-align: right;\">\n",
       "      <th></th>\n",
       "      <th>Show</th>\n",
       "      <th>Sentiment</th>\n",
       "      <th>Review</th>\n",
       "    </tr>\n",
       "  </thead>\n",
       "  <tbody>\n",
       "    <tr>\n",
       "      <th>0</th>\n",
       "      <td>Arcane: League of Legends</td>\n",
       "      <td>1</td>\n",
       "      <td>It was brilliant and twisted and dark and fun ...</td>\n",
       "    </tr>\n",
       "    <tr>\n",
       "      <th>1</th>\n",
       "      <td>Community</td>\n",
       "      <td>1</td>\n",
       "      <td>The heart remains the same. If you loved it be...</td>\n",
       "    </tr>\n",
       "    <tr>\n",
       "      <th>2</th>\n",
       "      <td>The Staircase</td>\n",
       "      <td>1</td>\n",
       "      <td>Intriguing, absorbing, raw, and fascinating… O...</td>\n",
       "    </tr>\n",
       "    <tr>\n",
       "      <th>3</th>\n",
       "      <td>We Own This City</td>\n",
       "      <td>1</td>\n",
       "      <td>If you're a fan of The Wire (as I am) and cons...</td>\n",
       "    </tr>\n",
       "    <tr>\n",
       "      <th>4</th>\n",
       "      <td>Peacemaker</td>\n",
       "      <td>1</td>\n",
       "      <td>James Gunn has crafted a heartfelt, twisted, a...</td>\n",
       "    </tr>\n",
       "    <tr>\n",
       "      <th>...</th>\n",
       "      <td>...</td>\n",
       "      <td>...</td>\n",
       "      <td>...</td>\n",
       "    </tr>\n",
       "    <tr>\n",
       "      <th>95</th>\n",
       "      <td>Once Upon a Time</td>\n",
       "      <td>1</td>\n",
       "      <td>Season 7 got off to an admittedly bumpy start,...</td>\n",
       "    </tr>\n",
       "    <tr>\n",
       "      <th>96</th>\n",
       "      <td>The Queen's Gambit</td>\n",
       "      <td>1</td>\n",
       "      <td>Not the best series Iv'e ever seen, but it's r...</td>\n",
       "    </tr>\n",
       "    <tr>\n",
       "      <th>97</th>\n",
       "      <td>Girls5eva</td>\n",
       "      <td>1</td>\n",
       "      <td>In its second season, Girls5eva is as goofy an...</td>\n",
       "    </tr>\n",
       "    <tr>\n",
       "      <th>98</th>\n",
       "      <td>The Leftovers</td>\n",
       "      <td>1</td>\n",
       "      <td>The Leftovers cemented its legacy as one of th...</td>\n",
       "    </tr>\n",
       "    <tr>\n",
       "      <th>99</th>\n",
       "      <td>The Good Place</td>\n",
       "      <td>1</td>\n",
       "      <td>The Good Place is the best series about ethics...</td>\n",
       "    </tr>\n",
       "  </tbody>\n",
       "</table>\n",
       "<p>100 rows × 3 columns</p>\n",
       "</div>"
      ],
      "text/plain": [
       "                         Show  Sentiment  \\\n",
       "0   Arcane: League of Legends          1   \n",
       "1                   Community          1   \n",
       "2               The Staircase          1   \n",
       "3            We Own This City          1   \n",
       "4                  Peacemaker          1   \n",
       "..                        ...        ...   \n",
       "95           Once Upon a Time          1   \n",
       "96         The Queen's Gambit          1   \n",
       "97                  Girls5eva          1   \n",
       "98              The Leftovers          1   \n",
       "99             The Good Place          1   \n",
       "\n",
       "                                               Review  \n",
       "0   It was brilliant and twisted and dark and fun ...  \n",
       "1   The heart remains the same. If you loved it be...  \n",
       "2   Intriguing, absorbing, raw, and fascinating… O...  \n",
       "3   If you're a fan of The Wire (as I am) and cons...  \n",
       "4   James Gunn has crafted a heartfelt, twisted, a...  \n",
       "..                                                ...  \n",
       "95  Season 7 got off to an admittedly bumpy start,...  \n",
       "96  Not the best series Iv'e ever seen, but it's r...  \n",
       "97  In its second season, Girls5eva is as goofy an...  \n",
       "98  The Leftovers cemented its legacy as one of th...  \n",
       "99  The Good Place is the best series about ethics...  \n",
       "\n",
       "[100 rows x 3 columns]"
      ]
     },
     "execution_count": 42,
     "metadata": {},
     "output_type": "execute_result"
    }
   ],
   "source": [
    "labeled_reviews_new = pd.read_csv(\"temp.csv\", engine='python', encoding='utf-8', on_bad_lines=\"skip\", encoding_errors=\"ignore\")\n",
    "labeled_reviews_new"
   ]
  },
  {
   "cell_type": "code",
   "execution_count": 43,
   "metadata": {
    "id": "jZgcphUuuVes"
   },
   "outputs": [],
   "source": [
    "labeled_reviews_united = pd.concat([labeled_reviews, labeled_reviews_new])"
   ]
  },
  {
   "cell_type": "code",
   "execution_count": 44,
   "metadata": {
    "colab": {
     "base_uri": "https://localhost:8080/",
     "height": 424
    },
    "id": "pA42zJSoudEa",
    "outputId": "48a90700-eafe-4cc1-f283-a2627cbbf620"
   },
   "outputs": [
    {
     "data": {
      "text/html": [
       "<div>\n",
       "<style scoped>\n",
       "    .dataframe tbody tr th:only-of-type {\n",
       "        vertical-align: middle;\n",
       "    }\n",
       "\n",
       "    .dataframe tbody tr th {\n",
       "        vertical-align: top;\n",
       "    }\n",
       "\n",
       "    .dataframe thead th {\n",
       "        text-align: right;\n",
       "    }\n",
       "</style>\n",
       "<table border=\"1\" class=\"dataframe\">\n",
       "  <thead>\n",
       "    <tr style=\"text-align: right;\">\n",
       "      <th></th>\n",
       "      <th>Show</th>\n",
       "      <th>Sentiment</th>\n",
       "      <th>Review</th>\n",
       "    </tr>\n",
       "  </thead>\n",
       "  <tbody>\n",
       "    <tr>\n",
       "      <th>5191</th>\n",
       "      <td>The Undoing</td>\n",
       "      <td>1</td>\n",
       "      <td>A twisty thriller that is glossy and decadentl...</td>\n",
       "    </tr>\n",
       "    <tr>\n",
       "      <th>11363</th>\n",
       "      <td>Stranger Things</td>\n",
       "      <td>1</td>\n",
       "      <td>It’s hard not to get swept up in the warm, coz...</td>\n",
       "    </tr>\n",
       "    <tr>\n",
       "      <th>5536</th>\n",
       "      <td>Lovecraft Country</td>\n",
       "      <td>1</td>\n",
       "      <td>Lovecraft Country is, frankly, a complete hot ...</td>\n",
       "    </tr>\n",
       "    <tr>\n",
       "      <th>11484</th>\n",
       "      <td>Money Heist: Korea - Joint Economic Area</td>\n",
       "      <td>1</td>\n",
       "      <td>Themes regarding traditionalism versus globali...</td>\n",
       "    </tr>\n",
       "    <tr>\n",
       "      <th>9560</th>\n",
       "      <td>A Very English Scandal</td>\n",
       "      <td>1</td>\n",
       "      <td>A richly textured true-crime miniseries that i...</td>\n",
       "    </tr>\n",
       "    <tr>\n",
       "      <th>...</th>\n",
       "      <td>...</td>\n",
       "      <td>...</td>\n",
       "      <td>...</td>\n",
       "    </tr>\n",
       "    <tr>\n",
       "      <th>95</th>\n",
       "      <td>Once Upon a Time</td>\n",
       "      <td>1</td>\n",
       "      <td>Season 7 got off to an admittedly bumpy start,...</td>\n",
       "    </tr>\n",
       "    <tr>\n",
       "      <th>96</th>\n",
       "      <td>The Queen's Gambit</td>\n",
       "      <td>1</td>\n",
       "      <td>Not the best series Iv'e ever seen, but it's r...</td>\n",
       "    </tr>\n",
       "    <tr>\n",
       "      <th>97</th>\n",
       "      <td>Girls5eva</td>\n",
       "      <td>1</td>\n",
       "      <td>In its second season, Girls5eva is as goofy an...</td>\n",
       "    </tr>\n",
       "    <tr>\n",
       "      <th>98</th>\n",
       "      <td>The Leftovers</td>\n",
       "      <td>1</td>\n",
       "      <td>The Leftovers cemented its legacy as one of th...</td>\n",
       "    </tr>\n",
       "    <tr>\n",
       "      <th>99</th>\n",
       "      <td>The Good Place</td>\n",
       "      <td>1</td>\n",
       "      <td>The Good Place is the best series about ethics...</td>\n",
       "    </tr>\n",
       "  </tbody>\n",
       "</table>\n",
       "<p>7495 rows × 3 columns</p>\n",
       "</div>"
      ],
      "text/plain": [
       "                                           Show  Sentiment  \\\n",
       "5191                                The Undoing          1   \n",
       "11363                           Stranger Things          1   \n",
       "5536                          Lovecraft Country          1   \n",
       "11484  Money Heist: Korea - Joint Economic Area          1   \n",
       "9560                     A Very English Scandal          1   \n",
       "...                                         ...        ...   \n",
       "95                             Once Upon a Time          1   \n",
       "96                           The Queen's Gambit          1   \n",
       "97                                    Girls5eva          1   \n",
       "98                                The Leftovers          1   \n",
       "99                               The Good Place          1   \n",
       "\n",
       "                                                  Review  \n",
       "5191   A twisty thriller that is glossy and decadentl...  \n",
       "11363  It’s hard not to get swept up in the warm, coz...  \n",
       "5536   Lovecraft Country is, frankly, a complete hot ...  \n",
       "11484  Themes regarding traditionalism versus globali...  \n",
       "9560   A richly textured true-crime miniseries that i...  \n",
       "...                                                  ...  \n",
       "95     Season 7 got off to an admittedly bumpy start,...  \n",
       "96     Not the best series Iv'e ever seen, but it's r...  \n",
       "97     In its second season, Girls5eva is as goofy an...  \n",
       "98     The Leftovers cemented its legacy as one of th...  \n",
       "99     The Good Place is the best series about ethics...  \n",
       "\n",
       "[7495 rows x 3 columns]"
      ]
     },
     "execution_count": 44,
     "metadata": {},
     "output_type": "execute_result"
    }
   ],
   "source": [
    "labeled_reviews_united"
   ]
  },
  {
   "cell_type": "code",
   "execution_count": 45,
   "metadata": {
    "id": "v-8EpNg4unNK"
   },
   "outputs": [],
   "source": [
    "model, vect = train_model(labeled_reviews_united)"
   ]
  },
  {
   "cell_type": "code",
   "execution_count": 46,
   "metadata": {
    "colab": {
     "base_uri": "https://localhost:8080/",
     "height": 424
    },
    "id": "CrpXi4fNusdV",
    "outputId": "2373a577-97ac-454b-dd07-c57527830fc9"
   },
   "outputs": [
    {
     "data": {
      "text/html": [
       "<div>\n",
       "<style scoped>\n",
       "    .dataframe tbody tr th:only-of-type {\n",
       "        vertical-align: middle;\n",
       "    }\n",
       "\n",
       "    .dataframe tbody tr th {\n",
       "        vertical-align: top;\n",
       "    }\n",
       "\n",
       "    .dataframe thead th {\n",
       "        text-align: right;\n",
       "    }\n",
       "</style>\n",
       "<table border=\"1\" class=\"dataframe\">\n",
       "  <thead>\n",
       "    <tr style=\"text-align: right;\">\n",
       "      <th></th>\n",
       "      <th>Show</th>\n",
       "      <th>Sentiment</th>\n",
       "      <th>Review</th>\n",
       "    </tr>\n",
       "  </thead>\n",
       "  <tbody>\n",
       "    <tr>\n",
       "      <th>11873</th>\n",
       "      <td>Squid Game</td>\n",
       "      <td>1</td>\n",
       "      <td>Debt to a cruel system is inescapable and dehu...</td>\n",
       "    </tr>\n",
       "    <tr>\n",
       "      <th>5382</th>\n",
       "      <td>The O.C.</td>\n",
       "      <td>1</td>\n",
       "      <td>Just absolute O.C. perfection... You couldn't ...</td>\n",
       "    </tr>\n",
       "    <tr>\n",
       "      <th>5096</th>\n",
       "      <td>His Dark Materials</td>\n",
       "      <td>0</td>\n",
       "      <td>[Though] it's timely and relevant in places, H...</td>\n",
       "    </tr>\n",
       "    <tr>\n",
       "      <th>11387</th>\n",
       "      <td>Stranger Things</td>\n",
       "      <td>1</td>\n",
       "      <td>Fresh locales, appealing new characters, and a...</td>\n",
       "    </tr>\n",
       "    <tr>\n",
       "      <th>650</th>\n",
       "      <td>Prehistoric Planet</td>\n",
       "      <td>1</td>\n",
       "      <td>A gorgeous, engrossing look at the creatures w...</td>\n",
       "    </tr>\n",
       "    <tr>\n",
       "      <th>...</th>\n",
       "      <td>...</td>\n",
       "      <td>...</td>\n",
       "      <td>...</td>\n",
       "    </tr>\n",
       "    <tr>\n",
       "      <th>8581</th>\n",
       "      <td>The Wilds</td>\n",
       "      <td>1</td>\n",
       "      <td>While The Wilds might be \"kids survive a plane...</td>\n",
       "    </tr>\n",
       "    <tr>\n",
       "      <th>9848</th>\n",
       "      <td>Legion</td>\n",
       "      <td>1</td>\n",
       "      <td>Even if \"Legion\" isn't the sum of its parts, s...</td>\n",
       "    </tr>\n",
       "    <tr>\n",
       "      <th>1772</th>\n",
       "      <td>Star Trek: Strange New Worlds</td>\n",
       "      <td>1</td>\n",
       "      <td>While Star Trek: Strange New Worlds must stick...</td>\n",
       "    </tr>\n",
       "    <tr>\n",
       "      <th>5078</th>\n",
       "      <td>Curb Your Enthusiasm</td>\n",
       "      <td>1</td>\n",
       "      <td>Pretty, pretty good.</td>\n",
       "    </tr>\n",
       "    <tr>\n",
       "      <th>11826</th>\n",
       "      <td>Pieces of Her</td>\n",
       "      <td>0</td>\n",
       "      <td>It just could have been so much better.</td>\n",
       "    </tr>\n",
       "  </tbody>\n",
       "</table>\n",
       "<p>7396 rows × 3 columns</p>\n",
       "</div>"
      ],
      "text/plain": [
       "                                Show  Sentiment  \\\n",
       "11873                     Squid Game          1   \n",
       "5382                        The O.C.          1   \n",
       "5096              His Dark Materials          0   \n",
       "11387                Stranger Things          1   \n",
       "650               Prehistoric Planet          1   \n",
       "...                              ...        ...   \n",
       "8581                       The Wilds          1   \n",
       "9848                          Legion          1   \n",
       "1772   Star Trek: Strange New Worlds          1   \n",
       "5078            Curb Your Enthusiasm          1   \n",
       "11826                  Pieces of Her          0   \n",
       "\n",
       "                                                  Review  \n",
       "11873  Debt to a cruel system is inescapable and dehu...  \n",
       "5382   Just absolute O.C. perfection... You couldn't ...  \n",
       "5096   [Though] it's timely and relevant in places, H...  \n",
       "11387  Fresh locales, appealing new characters, and a...  \n",
       "650    A gorgeous, engrossing look at the creatures w...  \n",
       "...                                                  ...  \n",
       "8581   While The Wilds might be \"kids survive a plane...  \n",
       "9848   Even if \"Legion\" isn't the sum of its parts, s...  \n",
       "1772   While Star Trek: Strange New Worlds must stick...  \n",
       "5078                                Pretty, pretty good.  \n",
       "11826            It just could have been so much better.  \n",
       "\n",
       "[7396 rows x 3 columns]"
      ]
     },
     "execution_count": 46,
     "metadata": {},
     "output_type": "execute_result"
    }
   ],
   "source": [
    "reviews_test = unlabeled_reviews\n",
    "reviews_test"
   ]
  },
  {
   "cell_type": "code",
   "execution_count": 47,
   "metadata": {
    "colab": {
     "base_uri": "https://localhost:8080/"
    },
    "id": "ahKYRsxmuy-J",
    "outputId": "3e364d3b-b995-42ad-83bb-7b05f203c732"
   },
   "outputs": [
    {
     "data": {
      "text/plain": [
       "array([1, 1, 1, ..., 1, 1, 1], dtype=int64)"
      ]
     },
     "execution_count": 47,
     "metadata": {},
     "output_type": "execute_result"
    }
   ],
   "source": [
    "x_test = vect.transform(reviews_test['Review'])\n",
    "y_test_predicted = model.predict(x_test)\n",
    "y_test_predicted"
   ]
  },
  {
   "cell_type": "code",
   "execution_count": 48,
   "metadata": {
    "colab": {
     "base_uri": "https://localhost:8080/"
    },
    "id": "wzsNKqAmu6GA",
    "outputId": "1b1e40a0-44eb-427c-bd98-14876513d9c0"
   },
   "outputs": [
    {
     "data": {
      "text/plain": [
       "0.9169054441260746"
      ]
     },
     "execution_count": 48,
     "metadata": {},
     "output_type": "execute_result"
    }
   ],
   "source": [
    "f1 = f1_score(reviews_test['Sentiment'], y_test_predicted)\n",
    "f1"
   ]
  }
 ],
 "metadata": {
  "colab": {
   "provenance": []
  },
  "kernelspec": {
   "display_name": "Python 3 (ipykernel)",
   "language": "python",
   "name": "python3"
  },
  "language_info": {
   "codemirror_mode": {
    "name": "ipython",
    "version": 3
   },
   "file_extension": ".py",
   "mimetype": "text/x-python",
   "name": "python",
   "nbconvert_exporter": "python",
   "pygments_lexer": "ipython3",
   "version": "3.10.6"
  }
 },
 "nbformat": 4,
 "nbformat_minor": 4
}
